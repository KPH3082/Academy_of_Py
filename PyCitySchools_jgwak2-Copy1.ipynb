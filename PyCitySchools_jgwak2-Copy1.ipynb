{
 "cells": [
  {
   "cell_type": "markdown",
   "metadata": {},
   "source": [
    "# PyCity Schools Analysis\n",
    " \n",
    "* Overall,smaller  schools seemed to peform better in math, reading and overall passing grades. School size seems to play an important role in the overall passing scores. \n",
    "\n",
    "* The data indicates that schools with higher budgets  and higher spending per student did not necessary  yield better test results. \n",
    "\n",
    "* Charter schools out-performed the public district schools across all metrics. More analysis may be required to required to determine if the effect is due to smaller school sizes or other factors. \n",
    "\n"
   ]
  },
  {
   "cell_type": "code",
   "execution_count": 1,
   "metadata": {},
   "outputs": [
    {
     "name": "stdout",
     "output_type": "stream",
     "text": [
      "   Student ID     student_name gender grade        school_name  reading_score  \\\n",
      "0           0     Paul Bradley      M   9th  Huang High School             66   \n",
      "1           1     Victor Smith      M  12th  Huang High School             94   \n",
      "2           2  Kevin Rodriguez      M  12th  Huang High School             90   \n",
      "\n",
      "   math_score  \n",
      "0          79  \n",
      "1          61  \n",
      "2          60  \n",
      "   School ID           school_name      type  size   budget\n",
      "0          0     Huang High School  District  2917  1910635\n",
      "1          1  Figueroa High School  District  2949  1884411\n",
      "2          2   Shelton High School   Charter  1761  1056600\n"
     ]
    },
    {
     "data": {
      "text/plain": [
       "Index(['Student ID', 'student_name', 'gender', 'grade', 'school_name',\n",
       "       'reading_score', 'math_score'],\n",
       "      dtype='object')"
      ]
     },
     "execution_count": 1,
     "metadata": {},
     "output_type": "execute_result"
    }
   ],
   "source": [
    "# -*- coding: utf-8 -*-\n",
    "\"\"\"\n",
    "Created on Tue May 29 14:38:16 2018\n",
    "@author: Shiva\n",
    "\"\"\"\n",
    "import os\n",
    "#import csv\n",
    "import pandas as pd\n",
    "import numpy as np\n",
    "\n",
    "#create path variable and assign relevant file names.\n",
    "#fp_students=os.path.join(\"raw_data\",\"students_complete.csv\")\n",
    "#fp_schools=os.path.join(\"raw_data\",\"schools_complete.csv\")\n",
    "\n",
    "#read files into pandas data frames.\n",
    "students_df = pd.read_csv('PyCitySchools/Resources/students_complete.csv')\n",
    "\n",
    "schools_df  = pd.read_csv('PyCitySchools/Resources/schools_complete.csv')\n",
    "\n",
    "print(students_df.head(3))\n",
    "print(schools_df.head(3))\n",
    "students_df.columns\n"
   ]
  },
  {
   "cell_type": "code",
   "execution_count": null,
   "metadata": {},
   "outputs": [],
   "source": [
    "#Determine district totals like total schools, total students, total budget, avg math score, avg reading score, % passing match, \n",
    "# % passing reading and overall passing rate. \n",
    "school_count= schools_df[\"school_name\"].count()\n",
    "student_count = students_df[\"Student ID\"].count()\n",
    "tot_budget = schools_df[\"budget\"].sum()\n",
    "mean_reading_score = students_df[\"reading_score\"].mean()\n",
    "mean_math_score = students_df[\"math_score\"].mean()\n",
    "\n",
    "#print values to verify \n",
    "#print(student_count)\n",
    "#print(school_count)\n",
    "#print(tot_budget)\n",
    "#print(mean_reading_score)\n",
    "#print(mean_math_score)"
   ]
  },
  {
   "cell_type": "code",
   "execution_count": null,
   "metadata": {},
   "outputs": [],
   "source": [
    "#Calulate number of students passing math and then use total student count to calculate % passing math. \n",
    "pass_math_df_cnt = students_df.loc[students_df[\"math_score\"] > 70,:][\"Student ID\"].count()\n",
    "#pass_math_df_cnt\n",
    "pass_math_percent = (pass_math_df_cnt / student_count)*100\n",
    "#print(pass_math_percent)\n",
    "\n",
    "#Calc % passing reading in a similar fashion. \n",
    "pass_reading_df_cnt = students_df.loc[students_df[\"reading_score\"] > 70][\"Student ID\"].count()\n",
    "pass_reading_df_cnt\n",
    "pass_reading_percent = (pass_reading_df_cnt / student_count)*100\n",
    "#print(pass_reading_percent)\n",
    "\n",
    "#calc overall pass percent as average of % passing math and % passing  reading.\n",
    "overall_pass_percent = (pass_math_percent + pass_reading_percent) / 2 \n",
    "#print(overall_pass_percent)"
   ]
  },
  {
   "cell_type": "code",
   "execution_count": null,
   "metadata": {},
   "outputs": [],
   "source": [
    "#Create a summary dict with all the values calculated above and covert to a dataframe. \n",
    "summary_dict={\"Total Schools\": [school_count], \"Total Students\": [student_count],\"Total Budget\":tot_budget,\n",
    "              \"Average Math Score\":mean_math_score,\"Average Reading Score\":mean_reading_score,\n",
    "              \"% Passing Math\":pass_math_percent,\"% Passing Reading\":pass_reading_percent,\n",
    "              \"Overall Passing Rate\":overall_pass_percent\n",
    "             }\n",
    "\n",
    "summary_dist_df = pd.DataFrame(summary_dict,columns=[\"Total Schools\",\"Total Students\",\"Total Budget\",\"Average Math Score\",\n",
    "                                                     \"Average Reading Score\",\"% Passing Math\",\"% Passing Reading\",\n",
    "                                                     \"Overall Passing Rate\"\n",
    "                                                    ])\n",
    "#summary_dist_df.head()"
   ]
  },
  {
   "cell_type": "markdown",
   "metadata": {},
   "source": [
    "## District Summary"
   ]
  },
  {
   "cell_type": "code",
   "execution_count": null,
   "metadata": {
    "scrolled": true
   },
   "outputs": [],
   "source": [
    "#Final district summary and formatting based on above values. \n",
    "summary_dist_df[\"Total Students\"] = summary_dist_df[\"Total Students\"].map(\"{:,}\".format)\n",
    "summary_dist_df[\"Total Budget\"]   = summary_dist_df[\"Total Budget\"].map(\"${:,.2f}\".format)\n",
    "summary_dist_df.head()"
   ]
  },
  {
   "cell_type": "code",
   "execution_count": null,
   "metadata": {},
   "outputs": [],
   "source": []
  },
  {
   "cell_type": "code",
   "execution_count": null,
   "metadata": {},
   "outputs": [],
   "source": [
    "#Perform steps to determine values needed for school summary.\n",
    "schools_ren_df = schools_df.rename(columns={\"school_name\": \"school\"})\n",
    "#schools_ren_df = schools_ren_df.set_index(\"school\")\n",
    "del schools_ren_df[\"School ID\"]\n",
    "schools_ren_df.head(2)\n"
   ]
  },
  {
   "cell_type": "code",
   "execution_count": null,
   "metadata": {},
   "outputs": [],
   "source": [
    "#mean of reading and math scores by school\n",
    "students_df_groupsch_avg = students_df.groupby('school_name').mean()\n",
    "del students_df_groupsch_avg[\"Student ID\"]\n",
    "students_df_groupsch_avg.reset_index(level=0, inplace=True)\n",
    "students_df_groupsch_avg = students_df_groupsch_avg.rename(columns={\"reading_score\":\"avg_reading_score\",\n",
    "                                                                    \"math_score\":\"avg_math_score\"})\n",
    "#students_df_groupsch_avg[\"school\"]=students_df_groupsch_avg.index\n",
    "students_df_groupsch_avg.head(3)\n"
   ]
  },
  {
   "cell_type": "code",
   "execution_count": null,
   "metadata": {},
   "outputs": [],
   "source": [
    "#total students by school.\n",
    "students_df_groupsch_totstudents = students_df.groupby('school_name').count()\n",
    "students_df_groupsch_totstudents = students_df.groupby(['school_name'])[\"student_name\"].count()\n",
    "\n",
    "students_df_groupsch_totstudents = pd.DataFrame(students_df_groupsch_totstudents,columns=[\"Total Student Count\"])\n",
    "students_df_groupsch_totstudents.reset_index(level=0,inplace=True)\n",
    "del students_df_groupsch_totstudents[[\"name\",\"gender\",\"grade\",\"reading_score\",\"math_score\"]]\n",
    "students_df_groupsch_totstudents= students_df_groupsch_totstudents[[\"school\",\"name\"]]\n",
    "students_df_groupsch_totstudents = students_df_groupsch_totstudents.rename(columns={\"name\":\"Total_student_count\"})\n",
    "students_df_groupsch_totstudents.head(3)\n"
   ]
  },
  {
   "cell_type": "code",
   "execution_count": null,
   "metadata": {
    "scrolled": true
   },
   "outputs": [],
   "source": [
    "## Count of students passing math by school\n",
    "#students_df_groupsch.loc[students_df_groupsch[\"math_score\" > 70]]\n",
    "school_stu_math_df = students_df.loc[students_df[\"math_score\"] > 70,:]\n",
    "#school_stu_math_df_cnt= school_stu_math_df.groupby('school').count()\n",
    "#school_stu_math_df_cnt= school_stu_math_df.groupby('school')[\"Student ID\"].count()\n",
    "school_stu_math_df_cnt= school_stu_math_df.groupby('school').count()\n",
    "\n",
    "school_stu_math_df_cnt.reset_index(level=0,inplace=True)\n",
    "school_stu_math_df_cnt=school_stu_math_df_cnt[[\"school\",\"name\"]]\n",
    "school_stu_math_df_cnt = school_stu_math_df_cnt.rename(columns={\"name\":\"pass_math_count\"})\n",
    "#school_stu_math_df_cnt.head(3)\n"
   ]
  },
  {
   "cell_type": "code",
   "execution_count": null,
   "metadata": {},
   "outputs": [],
   "source": [
    "#Count of students passing reading.\n",
    "school_stu_read_df = students_df.loc[students_df[\"reading_score\"] > 70,:]\n",
    "#school_stu_read_df.head(10)\n",
    "#school_stu_read_df_cnt= school_stu_read_df.groupby('school')[\"name\"].count()\n",
    "school_stu_read_df_cnt= school_stu_read_df.groupby('school').count()\n",
    "school_stu_read_df_cnt.reset_index(level=0,inplace=True)\n",
    "school_stu_read_df_cnt=school_stu_read_df_cnt[[\"school\",\"name\"]]\n",
    "#rename column to pass reading count \n",
    "school_stu_read_df_cnt=school_stu_read_df_cnt.rename(columns={\"name\":\"pass_reading_cnt\"})\n",
    "#school_stu_read_df_cnt.head(3)"
   ]
  },
  {
   "cell_type": "code",
   "execution_count": null,
   "metadata": {},
   "outputs": [],
   "source": [
    "#merge school info and average scores for new summary dataframe1\n",
    "school_mrg1= pd.merge(schools_ren_df ,students_df_groupsch_avg, on=\"school\")\n",
    "#school_mrg1.head(3)"
   ]
  },
  {
   "cell_type": "code",
   "execution_count": null,
   "metadata": {},
   "outputs": [],
   "source": [
    "#merge the dataframe with total students into the above mrg1 dataframe\n",
    "school_mrg2 = pd.merge(school_mrg1,students_df_groupsch_totstudents, on=\"school\")\n",
    "#school_mrg2.head(3)\n"
   ]
  },
  {
   "cell_type": "code",
   "execution_count": null,
   "metadata": {},
   "outputs": [],
   "source": [
    "school_readmath_cnt_mrg3 = pd.merge(school_stu_math_df_cnt,school_stu_read_df_cnt,on=\"school\")\n",
    "#school_readmath_cnt_mrg3.head(3)"
   ]
  },
  {
   "cell_type": "code",
   "execution_count": null,
   "metadata": {},
   "outputs": [],
   "source": [
    "# add math and student pass counts to the merge dataframe - result is mrg4.\n",
    "school_mrg4 = pd.merge(school_mrg2 ,school_readmath_cnt_mrg3, on=\"school\")\n",
    "\n",
    "#Calculate % passing Math and percent passing reading. \n",
    "school_mrg4[\"percent passing math\"] = (school_mrg4[\"pass_math_count\"] * 100)/(school_mrg4[\"Total_student_count\"])\n",
    "school_mrg4[\"percent passing Reading\"] = (school_mrg4[\"pass_reading_cnt\"] * 100)/(school_mrg4[\"Total_student_count\"])\n",
    "\n",
    "#Calculate overall passing rate as average or percent passing for reading and math.\n",
    "school_mrg4[\"overall passing rate\"] = (school_mrg4[\"percent passing Reading\"] + school_mrg4[\"percent passing math\"]  ) / 2\n",
    "#school_mrg4.head(3)\n",
    "\n"
   ]
  },
  {
   "cell_type": "code",
   "execution_count": null,
   "metadata": {},
   "outputs": [],
   "source": [
    "#Determine per student Budget based on total budget / Total student count(size)\n",
    "school_mrg4[\"Per Student Budget\"] = school_mrg4[\"budget\"]/school_mrg4[\"Total_student_count\"]\n",
    "del school_mrg4[\"size\"]\n",
    "#school_mrg4.head(3)"
   ]
  },
  {
   "cell_type": "code",
   "execution_count": null,
   "metadata": {},
   "outputs": [],
   "source": [
    "#Rename columns to meaningful names \n",
    "school_mrg4 = school_mrg4.rename(columns={\"school\":\"School Name\",\"type\":\"School Type\",\"budget\":\"Total School Budget\",\n",
    "                   \"avg_reading_score\":\"Average Reading Score\",\"avg_math_score\":\"Average Math Score\",\n",
    "                    \"Total_student_count\":\"Total Students\",\"percent passing math\":\"% Passing Math\",\n",
    "                   \"percent passing Reading\":\"% Passing Reading\",\"overall passing rate\":\"Overall Passing Rate\",\n",
    "                   \"Per Student Budget\":\"Per Student Budget\"}\n",
    "                  )\n",
    "#school_mrg4.head(3)"
   ]
  },
  {
   "cell_type": "code",
   "execution_count": null,
   "metadata": {},
   "outputs": [],
   "source": [
    "School_summary_df = school_mrg4[[\"School Name\",\"School Type\",\"Total Students\",\"Total School Budget\",\"Per Student Budget\",\n",
    "                                 \"Average Math Score\",\"Average Reading Score\",\"% Passing Math\",\"% Passing Reading\",\n",
    "                                 \"Overall Passing Rate\"]]\n",
    "#convert budget amounts to numeric values before formatting. \n",
    "School_summary_df['Total School Budget'] = pd.to_numeric(School_summary_df[\"Total School Budget\"])\n",
    "School_summary_df['Per Student Budget'] = pd.to_numeric(School_summary_df[\"Per Student Budget\"])\n",
    "##School_summary_df.head(3)\n",
    "##School_summary_df.dtypes\n",
    "#Keep a dataframe with numeric values for relevant fields. \n",
    "School_summary_dfnum = School_summary_df.copy()\n",
    "#School_summary_dfnum.head(3)\n",
    "#School_summary_dfnum.dtypes"
   ]
  },
  {
   "cell_type": "code",
   "execution_count": null,
   "metadata": {},
   "outputs": [],
   "source": [
    "#Change formtting to numeric. CAN BE RUN ONLY ONCE. previous needs to re-run to run this code again.\n",
    "School_summary_df[\"Total School Budget\"] = School_summary_df[\"Total School Budget\"].map(\"${:,.2f}\".format)\n",
    "School_summary_df[\"Per Student Budget\"] = School_summary_df[\"Per Student Budget\"].map(\"${:,.2f}\".format)\n",
    "#School_summary_dfnum.dtypes\n"
   ]
  },
  {
   "cell_type": "markdown",
   "metadata": {},
   "source": [
    "## School Summary"
   ]
  },
  {
   "cell_type": "code",
   "execution_count": null,
   "metadata": {},
   "outputs": [],
   "source": [
    "#Set index to school name for final school summary\n",
    "School_summary_final_df = School_summary_df.set_index(\"School Name\")\n",
    "School_summary_final_df"
   ]
  },
  {
   "cell_type": "code",
   "execution_count": null,
   "metadata": {},
   "outputs": [],
   "source": []
  },
  {
   "cell_type": "markdown",
   "metadata": {},
   "source": [
    "## Top Performing Schools (By Passing Rate)"
   ]
  },
  {
   "cell_type": "code",
   "execution_count": null,
   "metadata": {},
   "outputs": [],
   "source": [
    "#Determine top performing schools by overall passing rate.\n",
    "schools_top_perform = School_summary_final_df.sort_values([\"Overall Passing Rate\"], ascending=False)\n",
    "##schools_top_perform = schools_top_perform.rename(columns={\"Total_student_count\":\"Total Students\"})\n",
    "schools_top_perform.iloc[0:5,:]"
   ]
  },
  {
   "cell_type": "code",
   "execution_count": null,
   "metadata": {},
   "outputs": [],
   "source": []
  },
  {
   "cell_type": "markdown",
   "metadata": {},
   "source": [
    "## Bottom Performing Schools (By Passing Rate)"
   ]
  },
  {
   "cell_type": "code",
   "execution_count": null,
   "metadata": {},
   "outputs": [],
   "source": [
    "#Determine bottom performing schools by overall passing rate.\n",
    "schools_bottom_perform = School_summary_final_df.sort_values([\"Overall Passing Rate\"], ascending=True)\n",
    "##schools_bottom_perform = schools_bottom_perform.rename(columns={\"Total_student_count\":\"Total Students\"})\n",
    "schools_bottom_perform.iloc[0:5,:]"
   ]
  },
  {
   "cell_type": "markdown",
   "metadata": {
    "collapsed": true
   },
   "source": [
    "## Reading Scores by Grade"
   ]
  },
  {
   "cell_type": "code",
   "execution_count": null,
   "metadata": {
    "scrolled": true
   },
   "outputs": [],
   "source": [
    "#Math scores by passing grade.\n",
    "#students_gr_grade_df = students_df.groupby(['school','grade']).reading_score.mean()\n",
    "students_gr_grade_df = students_df.groupby(['school','grade']).reading_score.mean().unstack(level=1)\n",
    "students_gr_grade_df \n"
   ]
  },
  {
   "cell_type": "code",
   "execution_count": null,
   "metadata": {},
   "outputs": [],
   "source": []
  },
  {
   "cell_type": "code",
   "execution_count": null,
   "metadata": {},
   "outputs": [],
   "source": [
    "#Reading scores by passing grade.\n",
    "#students_gr_avgreadgrade_df = students_df.groupby(['school','grade']).math_score.mean()\n",
    "students_gr_avgreadgrade_df = students_df.groupby(['school','grade']).math_score.mean().unstack(level=1)"
   ]
  },
  {
   "cell_type": "markdown",
   "metadata": {},
   "source": [
    "## Math Score by Grade "
   ]
  },
  {
   "cell_type": "code",
   "execution_count": null,
   "metadata": {},
   "outputs": [],
   "source": [
    "students_gr_avgreadgrade_df"
   ]
  },
  {
   "cell_type": "code",
   "execution_count": null,
   "metadata": {},
   "outputs": [],
   "source": [
    "#School_summary_dfnum.dtypes"
   ]
  },
  {
   "cell_type": "code",
   "execution_count": null,
   "metadata": {},
   "outputs": [],
   "source": [
    "#select relevant columns and assign to new dataframe. This is to start steps for scores by school spending. \n",
    "\n",
    "School_summary_df2 = School_summary_dfnum[[\"Average Math Score\", \"Average Reading Score\",\"% Passing Math\",\n",
    "                                         \"% Passing Reading\",\"Overall Passing Rate\",\"Per Student Budget\"]]\n",
    "#School_summary_df2.head(3)"
   ]
  },
  {
   "cell_type": "code",
   "execution_count": null,
   "metadata": {},
   "outputs": [],
   "source": [
    "#scores by School spending\n",
    "bins=[575,600,625,650,675]\n",
    "binnames=[\"575 to 600\",\"600 to 625\",\"625 to 650\",\"650 to 675\"]\n",
    "School_summary_df2[\"Spending ranges Per student\"] = pd.cut(School_summary_df2[\"Per Student Budget\"],bins,labels=binnames)\n",
    "#School_summary_df2.head(3)\n"
   ]
  },
  {
   "cell_type": "markdown",
   "metadata": {},
   "source": [
    "## Scores by School Spending"
   ]
  },
  {
   "cell_type": "code",
   "execution_count": null,
   "metadata": {},
   "outputs": [],
   "source": [
    "## create data frame with relevant columns, group by per student summary and calc mean.\n",
    "##These are the Final scores by school spending. \n",
    "School_summary_df3 = School_summary_df2[[\"Average Math Score\",\"Average Reading Score\",\"% Passing Math\",\"% Passing Reading\",\n",
    "                                       \"Overall Passing Rate\", \"Spending ranges Per student\"]]\n",
    "School_summary_df3 = School_summary_df3.groupby('Spending ranges Per student')\n",
    "School_spending_summary_final= School_summary_df3.mean()\n",
    "School_spending_summary_final"
   ]
  },
  {
   "cell_type": "code",
   "execution_count": null,
   "metadata": {
    "scrolled": true
   },
   "outputs": [],
   "source": [
    "#Get dataset to df1 to process bins based on school size and create table with avg math score, avg reading score, % passing\n",
    "#math, % pass reading and overall passing rate.\n",
    "School_size_df1 = School_summary_dfnum\n",
    "#School_size_df1.sort_values('Total Students').head(2) "
   ]
  },
  {
   "cell_type": "code",
   "execution_count": null,
   "metadata": {},
   "outputs": [],
   "source": [
    "#scores by School size.. define bins for school size. \n",
    "School_size_df2 = School_size_df1[[\"Average Math Score\",\"Average Reading Score\",\"% Passing Math\",\"% Passing Reading\",\n",
    "                                       \"Overall Passing Rate\", \"Total Students\"]]\n",
    "bins2=[0,1500,3000,5000]\n",
    "binnames2=[\"Small<1500 students)\",\"Medium-1500 to 3000 students\",\"Large-3000 to 5000 students\"]\n",
    "School_size_df2[\"school size summary\"] = pd.cut(School_size_df2[\"Total Students\"],bins2,labels=binnames2)\n",
    "#School_size_df2.tail(2)\n"
   ]
  },
  {
   "cell_type": "markdown",
   "metadata": {},
   "source": [
    "## Scores by School Size"
   ]
  },
  {
   "cell_type": "code",
   "execution_count": null,
   "metadata": {},
   "outputs": [],
   "source": [
    "#Group by school size summary and calculate mean of relevant columns.Final for school size summary\n",
    "School_size_df3 = School_size_df2\n",
    "del School_size_df3[\"Total Students\"]\n",
    "School_size_df3 = School_size_df3.groupby(\"school size summary\")\n",
    "\n",
    "School_size_summary_final= School_size_df3.mean()\n",
    "School_size_summary_final"
   ]
  },
  {
   "cell_type": "code",
   "execution_count": null,
   "metadata": {},
   "outputs": [],
   "source": []
  },
  {
   "cell_type": "markdown",
   "metadata": {},
   "source": [
    "## Scores by School Type"
   ]
  },
  {
   "cell_type": "code",
   "execution_count": null,
   "metadata": {},
   "outputs": [],
   "source": [
    "#Group schools based on school type - Charter, District\n",
    "school_type_df1 = School_summary_dfnum[[\"Average Math Score\",\"Average Reading Score\",\"% Passing Math\",\"% Passing Reading\",\n",
    "                                       \"Overall Passing Rate\", \"School Type\"]]\n",
    "school_type_df2 =  school_type_df1.groupby('School Type')\n",
    "school_type_df3_final = school_type_df2.mean()\n",
    "school_type_df3_final"
   ]
  },
  {
   "cell_type": "code",
   "execution_count": null,
   "metadata": {},
   "outputs": [],
   "source": []
  }
 ],
 "metadata": {
  "anaconda-cloud": {},
  "kernelspec": {
   "display_name": "Python 3",
   "language": "python",
   "name": "python3"
  },
  "language_info": {
   "codemirror_mode": {
    "name": "ipython",
    "version": 3
   },
   "file_extension": ".py",
   "mimetype": "text/x-python",
   "name": "python",
   "nbconvert_exporter": "python",
   "pygments_lexer": "ipython3",
   "version": "3.6.8"
  },
  "nteract": {
   "version": "0.8.4"
  }
 },
 "nbformat": 4,
 "nbformat_minor": 1
}
